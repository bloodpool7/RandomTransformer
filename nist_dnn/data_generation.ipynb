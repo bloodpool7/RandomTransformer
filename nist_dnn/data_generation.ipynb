{
 "cells": [
  {
   "cell_type": "code",
   "execution_count": 2,
   "metadata": {},
   "outputs": [
    {
     "name": "stdout",
     "output_type": "stream",
     "text": [
      "[INFO] Loaded data from /home/rishabhg/Projects/RandomTransformer/binary_data/Qnumbers.bin\n"
     ]
    },
    {
     "ename": "KeyboardInterrupt",
     "evalue": "",
     "output_type": "error",
     "traceback": [
      "\u001b[0;31m---------------------------------------------------------------------------\u001b[0m",
      "\u001b[0;31mKeyboardInterrupt\u001b[0m                         Traceback (most recent call last)",
      "Cell \u001b[0;32mIn[2], line 5\u001b[0m\n\u001b[1;32m      2\u001b[0m \u001b[38;5;28;01mimport\u001b[39;00m \u001b[38;5;21;01mpandas\u001b[39;00m \u001b[38;5;28;01mas\u001b[39;00m \u001b[38;5;21;01mpd\u001b[39;00m\n\u001b[1;32m      4\u001b[0m exp \u001b[38;5;241m=\u001b[39m experiment\u001b[38;5;241m.\u001b[39mExperiment(\u001b[38;5;124m\"\u001b[39m\u001b[38;5;124m../experiment_configs/config_1.py\u001b[39m\u001b[38;5;124m\"\u001b[39m)\n\u001b[0;32m----> 5\u001b[0m data \u001b[38;5;241m=\u001b[39m \u001b[43mexp\u001b[49m\u001b[38;5;241;43m.\u001b[39;49m\u001b[43mprocess_data\u001b[49m\u001b[43m(\u001b[49m\u001b[43m)\u001b[49m\n\u001b[1;32m      6\u001b[0m data\u001b[38;5;241m.\u001b[39mto_csv(\u001b[38;5;124m\"\u001b[39m\u001b[38;5;124mdataset_4096.csv\u001b[39m\u001b[38;5;124m\"\u001b[39m, index\u001b[38;5;241m=\u001b[39m\u001b[38;5;28;01mFalse\u001b[39;00m)\n",
      "File \u001b[0;32m~/Projects/RandomTransformer/nist_dnn/experiment.py:35\u001b[0m, in \u001b[0;36mExperiment.process_data\u001b[0;34m(self)\u001b[0m\n\u001b[1;32m     33\u001b[0m data_processor \u001b[38;5;241m=\u001b[39m DataProcessor()\n\u001b[1;32m     34\u001b[0m data_processor\u001b[38;5;241m.\u001b[39mset_chunk_size(\u001b[38;5;28mself\u001b[39m\u001b[38;5;241m.\u001b[39mexp_config\u001b[38;5;241m.\u001b[39mget(\u001b[38;5;124m'\u001b[39m\u001b[38;5;124mchunk_size\u001b[39m\u001b[38;5;124m'\u001b[39m))\n\u001b[0;32m---> 35\u001b[0m \u001b[43mdata_processor\u001b[49m\u001b[38;5;241;43m.\u001b[39;49m\u001b[43mload_data\u001b[49m\u001b[43m(\u001b[49m\u001b[38;5;28;43mself\u001b[39;49m\u001b[38;5;241;43m.\u001b[39;49m\u001b[43mexp_config\u001b[49m\u001b[38;5;241;43m.\u001b[39;49m\u001b[43mget\u001b[49m\u001b[43m(\u001b[49m\u001b[38;5;124;43m'\u001b[39;49m\u001b[38;5;124;43minput_data_file\u001b[39;49m\u001b[38;5;124;43m'\u001b[39;49m\u001b[43m)\u001b[49m\u001b[43m)\u001b[49m\n\u001b[1;32m     36\u001b[0m data_processor\u001b[38;5;241m.\u001b[39msplit_data()\n\u001b[1;32m     38\u001b[0m \u001b[38;5;66;03m# run augmentations specified in the config script\u001b[39;00m\n",
      "File \u001b[0;32m~/Projects/RandomTransformer/nist_dnn/data/data_processor.py:40\u001b[0m, in \u001b[0;36mDataProcessor.load_data\u001b[0;34m(self, data_file)\u001b[0m\n\u001b[1;32m     38\u001b[0m bit_str \u001b[38;5;241m=\u001b[39m [\u001b[38;5;28mformat\u001b[39m(r,\u001b[38;5;124m'\u001b[39m\u001b[38;5;124m08b\u001b[39m\u001b[38;5;124m'\u001b[39m) \u001b[38;5;28;01mfor\u001b[39;00m r \u001b[38;5;129;01min\u001b[39;00m rnd_string]\n\u001b[1;32m     39\u001b[0m \u001b[38;5;66;03m# split bytes into bits\u001b[39;00m\n\u001b[0;32m---> 40\u001b[0m \u001b[38;5;28mself\u001b[39m\u001b[38;5;241m.\u001b[39mqueues \u001b[38;5;241m=\u001b[39m np\u001b[38;5;241m.\u001b[39marray([\u001b[38;5;28;43mint\u001b[39;49m\u001b[43m(\u001b[49m\u001b[43mb\u001b[49m\u001b[43m)\u001b[49m \u001b[38;5;28;01mfor\u001b[39;00m byte \u001b[38;5;129;01min\u001b[39;00m bit_str \u001b[38;5;28;01mfor\u001b[39;00m b \u001b[38;5;129;01min\u001b[39;00m byte])\n",
      "\u001b[0;31mKeyboardInterrupt\u001b[0m: "
     ]
    }
   ],
   "source": [
    "import experiment\n",
    "import pandas as pd\n",
    "\n",
    "exp = experiment.Experiment(\"../experiment_configs/config_1.py\")\n",
    "data = exp.process_data()\n",
    "data.to_csv(\"dataset_4096.csv\", index=False)"
   ]
  }
 ],
 "metadata": {
  "kernelspec": {
   "display_name": "Randomness_Testing",
   "language": "python",
   "name": "python3"
  },
  "language_info": {
   "codemirror_mode": {
    "name": "ipython",
    "version": 3
   },
   "file_extension": ".py",
   "mimetype": "text/x-python",
   "name": "python",
   "nbconvert_exporter": "python",
   "pygments_lexer": "ipython3",
   "version": "3.12.3"
  }
 },
 "nbformat": 4,
 "nbformat_minor": 2
}
