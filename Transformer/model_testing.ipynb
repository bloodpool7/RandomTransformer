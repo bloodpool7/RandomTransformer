{
 "cells": [
  {
   "cell_type": "markdown",
   "metadata": {},
   "source": [
    "# Loading the Datasets"
   ]
  },
  {
   "cell_type": "code",
   "execution_count": 1,
   "metadata": {},
   "outputs": [],
   "source": [
    "from Model import *\n",
    "import torch.nn as nn\n",
    "from torch.utils.data import DataLoader\n",
    "import pandas as pd\n",
    "\n",
    "#get the data\n",
    "split_ratio = 0.8\n",
    "val_ratio = 0.2\n",
    "data = pd.read_csv(\"Data/dataset_2048.csv\", dtype = str)\n",
    "train_df = data.sample(frac = split_ratio)\n",
    "test_df = data.drop(train_df.index)\n",
    "val_df = train_df.sample(frac = val_ratio)\n",
    "train_df = train_df.drop(val_df.index)\n",
    "\n",
    "train_dataset = QueueDataset(train_df)\n",
    "test_dataset = QueueDataset(test_df)\n",
    "val_dataset = QueueDataset(val_df)\n",
    "\n",
    "#initialize the data loader \n",
    "train_loader = DataLoader(train_dataset, batch_size = 128, shuffle = True)\n",
    "test_loader = DataLoader(test_dataset, batch_size = 128, shuffle = True)\n",
    "val_loader = DataLoader(val_dataset, batch_size = 128, shuffle = True)"
   ]
  },
  {
   "cell_type": "markdown",
   "metadata": {},
   "source": [
    "# Defining the Model"
   ]
  },
  {
   "cell_type": "code",
   "execution_count": 2,
   "metadata": {},
   "outputs": [
    {
     "name": "stderr",
     "output_type": "stream",
     "text": [
      "/Users/rishabhgoel/Environments/Randomness_Testing/lib/python3.11/site-packages/torch/nn/modules/transformer.py:286: UserWarning: enable_nested_tensor is True, but self.use_nested_tensor is False because encoder_layer.self_attn.batch_first was not True(use batch_first for better inference performance)\n",
      "  warnings.warn(f\"enable_nested_tensor is True, but self.use_nested_tensor is False because {why_not_sparsity_fast_path}\")\n"
     ]
    }
   ],
   "source": [
    "#model hyperparameters \n",
    "ntokens = 65536  # size of vocabulary\n",
    "emsize = 240  # embedding dimension\n",
    "d_hid = 240  # dimension of the feedforward network model in ``nn.TransformerEncoder``\n",
    "nlayers = 1  # number of ``nn.TransformerEncoderLayer`` in ``nn.TransformerEncoder``\n",
    "nhead = 1 # number of heads in ``nn.MultiheadAttention``\n",
    "dropout = 0.2  # dropout probability\n",
    "input_size = 128\n",
    "threshold = 0.5\n",
    "\n",
    "#define the model \n",
    "device = \"cpu\"\n",
    "transformer = RandomLM(ntokens, emsize, nhead, d_hid, nlayers, input_size, dropout).to(device)\n",
    "criterion = nn.BCELoss().to(device)\n",
    "optimizer = torch.optim.Adam(transformer.parameters())"
   ]
  },
  {
   "cell_type": "markdown",
   "metadata": {},
   "source": [
    "# Training Model"
   ]
  },
  {
   "cell_type": "code",
   "execution_count": 3,
   "metadata": {},
   "outputs": [
    {
     "name": "stdout",
     "output_type": "stream",
     "text": [
      "epoch: 1, batch: 100, train loss: 0.815, train macro: 0.723, train micro: 0.771, train sample: 0.694, train weighted 0.746, val loss: 0.323, val macro: 0.877, val micro: 0.880 val sample: 0.809 val weighted: 0.883\n",
      "epoch: 1, batch: 200, train loss: 0.310, train macro: 0.870, train micro: 0.875, train sample: 0.799, train weighted 0.877, val loss: 0.316, val macro: 0.876, val micro: 0.880 val sample: 0.733 val weighted: 0.880\n",
      "epoch: 1, batch: 300, train loss: 0.291, train macro: 0.879, train micro: 0.885, train sample: 0.811, train weighted 0.886, val loss: 0.269, val macro: 0.897, val micro: 0.902 val sample: 0.814 val weighted: 0.903\n"
     ]
    }
   ],
   "source": [
    "train_metrics, val_metrics = train(transformer, criterion, optimizer, train_loader, val_loader, 1, threshold)\n",
    "plot_metrics(train_metrics, val_metrics)\n",
    "_, _, _, _, _ = test(transformer, criterion, test_loader, threshold)"
   ]
  },
  {
   "cell_type": "markdown",
   "metadata": {},
   "source": [
    "# Saving Results"
   ]
  },
  {
   "cell_type": "code",
   "execution_count": 9,
   "metadata": {},
   "outputs": [],
   "source": [
    "from zipfile import ZipFile \n",
    "import os \n",
    "\n",
    "torch.save(transformer.state_dict(), \"model.pt\")\n",
    "\n",
    "dir_name = \"TrainedModels/240embeddings-1encoder-1heads-128tokensize\"\n",
    "\n",
    "train_metrics.to_csv(\"train_metrics.csv\")\n",
    "val_metrics.to_csv(\"val_metrics.csv\")\n",
    "\n",
    "with ZipFile(dir_name + \".zip\", \"w\") as myzip:\n",
    "    myzip.write(\"train_metrics.csv\")\n",
    "    myzip.write(\"val_metrics.csv\")\n",
    "    myzip.write(\"model.pt\")\n",
    "    myzip.close()\n",
    "\n",
    "os.remove(\"train_metrics.csv\")\n",
    "os.remove(\"val_metrics.csv\")\n",
    "os.remove(\"model.pt\")"
   ]
  }
 ],
 "metadata": {
  "kernelspec": {
   "display_name": "Randomness_Testing",
   "language": "python",
   "name": "python3"
  },
  "language_info": {
   "codemirror_mode": {
    "name": "ipython",
    "version": 3
   },
   "file_extension": ".py",
   "mimetype": "text/x-python",
   "name": "python",
   "nbconvert_exporter": "python",
   "pygments_lexer": "ipython3",
   "version": "3.11.4"
  }
 },
 "nbformat": 4,
 "nbformat_minor": 2
}
