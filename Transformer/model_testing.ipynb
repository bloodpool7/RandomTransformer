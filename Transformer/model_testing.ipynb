{
 "cells": [
  {
   "cell_type": "code",
   "execution_count": 16,
   "metadata": {},
   "outputs": [
    {
     "data": {
      "image/png": "[encoded data removed]",
      "text/plain": [
       "<Figure size 640x480 with 1 Axes>"
      ]
     },
     "metadata": {},
     "output_type": "display_data"
    }
   ],
   "source": [
    "import matplotlib.pyplot as plt\n",
    "\n",
    "# Input data\n",
    "input_sizes = [512, 1024, 2048]\n",
    "sts_times = [3.65, 4.31, 5.30]  # STS times\n",
    "model_times = [1.01, 1.11, 1.28]  # Model times\n",
    "\n",
    "# Width of each bar\n",
    "bar_width = 0.35\n",
    "\n",
    "# Positions of bars on x-axis\n",
    "index = range(len(input_sizes))\n",
    "\n",
    "# Plotting the bars\n",
    "plt.bar(index, sts_times, bar_width, label='STS Times', color='tab:blue')\n",
    "plt.bar([i + bar_width for i in index], model_times, bar_width, label='Model Times', color='tab:orange')\n",
    "\n",
    "# Adding labels\n",
    "plt.xlabel('Input Sizes')\n",
    "plt.ylabel('Time (s)')\n",
    "plt.xticks([i + bar_width/2 for i in index], input_sizes)\n",
    "plt.legend()\n",
    "\n",
    "# Display the plot\n",
    "plt.tight_layout()\n",
    "plt.show()\n"
   ]
  },
  {
   "cell_type": "markdown",
   "metadata": {},
   "source": [
    "# Imports"
   ]
  },
  {
   "cell_type": "code",
   "execution_count": 2,
   "metadata": {},
   "outputs": [],
   "source": [
    "from Model import *\n",
    "import torch.nn as nn\n",
    "from torch.utils.data import DataLoader\n",
    "import pandas as pd"
   ]
  },
  {
   "cell_type": "code",
   "execution_count": 60,
   "metadata": {},
   "outputs": [],
   "source": [
    "class PositionalEncoding(nn.Module):\n",
    "\n",
    "    def __init__(self, d_model: int, dropout: float = 0.1, max_len: int = 5000):\n",
    "        super().__init__()\n",
    "        self.dropout = nn.Dropout(p=dropout)\n",
    "        \n",
    "        position = torch.arange(max_len).unsqueeze(1)\n",
    "        div_term = torch.exp(torch.arange(0, d_model, 2) * (-math.log(10000.0) / d_model))\n",
    "        pe = torch.zeros(max_len, 1, d_model)\n",
    "        pe[:, 0, 0::2] = torch.sin(position * div_term)\n",
    "        pe[:, 0, 1::2] = torch.cos(position * div_term)\n",
    "        self.register_buffer('pe', pe)\n",
    "\n",
    "    def forward(self, x: Tensor) -> Tensor:\n",
    "        \"\"\"\n",
    "        Arguments:\n",
    "            x: Tensor, shape ``[seq_len, batch_size, embedding_dim]``\n",
    "        \"\"\"\n",
    "        x = x + self.pe[:x.size(0)]\n",
    "        return self.dropout(x)\n",
    "    \n",
    "#RNN model with LSTM which takes input and embedds it to a certain dimension and then passes it through the LSTM layer and then the output is passed through a fully connected layer to get the final output\n",
    "class RNN(nn.Module):\n",
    "    def __init__(self, input_size, hidden_size, num_layers, num_classes):\n",
    "        super(RNN, self).__init__()\n",
    "        self.hidden_size = hidden_size\n",
    "        self.num_layers = num_layers\n",
    "        self.device = 'cpu'\n",
    "        self.embedding = nn.Embedding(65536, input_size)\n",
    "        self.pe = PositionalEncoding(input_size)\n",
    "        self.rnn = nn.LSTM(input_size, hidden_size, num_layers, batch_first=True, dropout = 0.2)\n",
    "        self.fc = nn.Sequential(nn.Linear(hidden_size, num_classes), nn.Sigmoid())\n",
    "        \n",
    "    def forward(self, x):\n",
    "        h0 = torch.zeros(self.num_layers, x.size(0), self.hidden_size).to(self.device)\n",
    "        c0 = torch.zeros(self.num_layers, x.size(0), self.hidden_size).to(self.device)\n",
    "        x = self.embedding(x)\n",
    "        # x = self.pe(x)\n",
    "        out, _ = self.rnn(x, (h0, c0))\n",
    "        # out = out[:, -1, :]\n",
    "        out = torch.mean(out, 1)\n",
    "        out = self.fc(out)\n",
    "        return out\n",
    "\n",
    "\n",
    "transformer = RNN(input_size = 200, hidden_size = 200, num_layers = 2, num_classes = 7)\n",
    "criterion = nn.BCELoss()\n",
    "optimizer = torch.optim.Adam(transformer.parameters())\n",
    "\n",
    "# train_metrics, val_metrics = train(transformer, criterion, optimizer, train_loader_512, val_loader_512, 2, 0.5, device = 'cpu')\n",
    "\n",
    "# print(\"TEST \" + input)\n",
    "\n",
    "# test_metrics = inference(transformer, criterion, test_loader_512, 0.5, device = 'cpu')\n"
   ]
  },
  {
   "cell_type": "markdown",
   "metadata": {},
   "source": [
    "# Loading the Datasets"
   ]
  },
  {
   "cell_type": "code",
   "execution_count": 3,
   "metadata": {},
   "outputs": [],
   "source": [
    "#get the data\n",
    "split_ratio = 0.8\n",
    "val_ratio = 0.2\n",
    "data = pd.read_csv(\"Data/dataset_512.csv\", dtype = str)\n",
    "train_df = data.sample(frac = split_ratio)\n",
    "test_df = data.drop(train_df.index)\n",
    "val_df = train_df.sample(frac = val_ratio)\n",
    "train_df = train_df.drop(val_df.index)\n",
    "\n",
    "train_dataset = QueueDataset(train_df)\n",
    "test_dataset = QueueDataset(test_df)\n",
    "val_dataset = QueueDataset(val_df)\n",
    "\n",
    "#initialize the data loader \n",
    "train_loader_512 = DataLoader(train_dataset, batch_size = 128, shuffle = True)\n",
    "test_loader_512 = DataLoader(test_dataset, batch_size = 128, shuffle = True)\n",
    "val_loader_512 = DataLoader(val_dataset, batch_size = 128, shuffle = True)\n",
    "\n",
    "data = pd.read_csv(\"Data/dataset_1024.csv\", dtype = str)\n",
    "train_df = data.sample(frac = split_ratio)\n",
    "test_df = data.drop(train_df.index)\n",
    "val_df = train_df.sample(frac = val_ratio)\n",
    "train_df = train_df.drop(val_df.index)\n",
    "\n",
    "train_dataset = QueueDataset(train_df)\n",
    "test_dataset = QueueDataset(test_df)\n",
    "val_dataset = QueueDataset(val_df)\n",
    "\n",
    "train_loader_1024 = DataLoader(train_dataset, batch_size = 128, shuffle = True)\n",
    "test_loader_1024 = DataLoader(test_dataset, batch_size = 128, shuffle = True)\n",
    "val_loader_1024 = DataLoader(val_dataset, batch_size = 128, shuffle = True)\n",
    "\n",
    "data = pd.read_csv(\"Data/dataset_2048.csv\", dtype = str)\n",
    "train_df = data.sample(frac = split_ratio)\n",
    "test_df = data.drop(train_df.index)\n",
    "val_df = train_df.sample(frac = val_ratio)\n",
    "train_df = train_df.drop(val_df.index)\n",
    "\n",
    "train_dataset = QueueDataset(train_df)\n",
    "test_dataset = QueueDataset(test_df)\n",
    "val_dataset = QueueDataset(val_df)\n",
    "\n",
    "train_loader_2048 = DataLoader(train_dataset, batch_size = 128, shuffle = True)\n",
    "test_loader_2048 = DataLoader(test_dataset, batch_size = 128, shuffle = True)\n",
    "val_loader_2048 = DataLoader(val_dataset, batch_size = 128, shuffle = True)\n",
    "\n",
    "# data = pd.read_csv(\"Data/dataset_4096.csv\", dtype = str)\n",
    "# train_df = data.sample(frac = split_ratio)\n",
    "# test_df = data.drop(train_df.index)\n",
    "# val_df = train_df.sample(frac = val_ratio)\n",
    "# train_df = train_df.drop(val_df.index)\n",
    "\n",
    "# train_dataset = QueueDataset(train_df)\n",
    "# test_dataset = QueueDataset(test_df)\n",
    "# val_dataset = QueueDataset(val_df)\n",
    "\n",
    "# train_loader_4096 = DataLoader(train_dataset, batch_size = 128, shuffle = True)\n",
    "# test_loader_4096 = DataLoader(test_dataset, batch_size = 128, shuffle = True)\n",
    "# val_loader_4096 = DataLoader(val_dataset, batch_size = 128, shuffle = True)"
   ]
  },
  {
   "cell_type": "markdown",
   "metadata": {},
   "source": [
    "# Defining the Model"
   ]
  },
  {
   "cell_type": "code",
   "execution_count": 5,
   "metadata": {},
   "outputs": [
    {
     "name": "stderr",
     "output_type": "stream",
     "text": [
      "/home/rishabhg/.conda/envs/Randomness-env/lib/python3.12/site-packages/torch/cuda/__init__.py:118: UserWarning: CUDA initialization: CUDA unknown error - this may be due to an incorrectly set up environment, e.g. changing env variable CUDA_VISIBLE_DEVICES after program start. Setting the available devices to be zero. (Triggered internally at /opt/conda/conda-bld/pytorch_1712608847532/work/c10/cuda/CUDAFunctions.cpp:108.)\n",
      "  return torch._C._cuda_getDeviceCount() > 0\n",
      "/home/rishabhg/.conda/envs/Randomness-env/lib/python3.12/site-packages/torch/nn/modules/transformer.py:306: UserWarning: enable_nested_tensor is True, but self.use_nested_tensor is False because encoder_layer.self_attn.batch_first was not True(use batch_first for better inference performance)\n",
      "  warnings.warn(f\"enable_nested_tensor is True, but self.use_nested_tensor is False because {why_not_sparsity_fast_path}\")\n"
     ]
    }
   ],
   "source": [
    "#model hyperparameters \n",
    "ntokens = 65536  # size of vocabulary\n",
    "emsize = 192  # embedding dimension\n",
    "d_hid = 192  # dimension of the feedforward network model in ``nn.TransformerEncoder``\n",
    "nlayers = 1  # number of ``nn.TransformerEncoderLayer`` in ``nn.TransformerEncoder``\n",
    "nhead = 1 # number of heads in ``nn.MultiheadAttention``\n",
    "dropout = 0.2  # dropout probability\n",
    "threshold = 0.5\n",
    "input_size = 32\n",
    "device = \"cpu\"\n",
    "torch.cuda.empty_cache() if torch.cuda.is_available() else None\n",
    "transformer = RandomLM(ntokens, emsize, nhead, d_hid, nlayers, input_size, dropout, True).to(device)\n",
    "criterion = nn.BCELoss().to(device)\n",
    "optimizer = torch.optim.Adam(transformer.parameters())"
   ]
  },
  {
   "cell_type": "code",
   "execution_count": 61,
   "metadata": {},
   "outputs": [
    {
     "name": "stdout",
     "output_type": "stream",
     "text": [
      "epoch: 1, batch: 100, train loss: 0.349, train macro: 0.799, train micro: 0.851, train sample: 0.758, train weighted 0.822, val loss: 0.195, val macro: 0.937, val micro: 0.941 val sample: 0.829 val weighted: 0.941\n",
      "epoch: 1, batch: 200, train loss: 0.187, train macro: 0.939, train micro: 0.943, train sample: 0.853, train weighted 0.943, val loss: 0.168, val macro: 0.945, val micro: 0.949 val sample: 0.873 val weighted: 0.949\n",
      "epoch: 1, batch: 300, train loss: 0.161, train macro: 0.948, train micro: 0.952, train sample: 0.877, train weighted 0.953, val loss: 0.158, val macro: 0.949, val micro: 0.953 val sample: 0.878 val weighted: 0.954\n",
      "epoch: 1, batch: 400, train loss: 0.161, train macro: 0.948, train micro: 0.952, train sample: 0.879, train weighted 0.952, val loss: 0.150, val macro: 0.951, val micro: 0.956 val sample: 0.886 val weighted: 0.956\n",
      "epoch: 1, batch: 500, train loss: 0.148, train macro: 0.952, train micro: 0.957, train sample: 0.886, train weighted 0.957, val loss: 0.145, val macro: 0.952, val micro: 0.957 val sample: 0.886 val weighted: 0.957\n",
      "epoch: 2, batch: 100, train loss: 0.129, train macro: 0.956, train micro: 0.961, train sample: 0.893, train weighted 0.961, val loss: 0.149, val macro: 0.949, val micro: 0.954 val sample: 0.885 val weighted: 0.954\n",
      "epoch: 2, batch: 200, train loss: 0.129, train macro: 0.955, train micro: 0.960, train sample: 0.889, train weighted 0.961, val loss: 0.140, val macro: 0.953, val micro: 0.958 val sample: 0.890 val weighted: 0.958\n",
      "epoch: 2, batch: 300, train loss: 0.128, train macro: 0.955, train micro: 0.960, train sample: 0.892, train weighted 0.961, val loss: 0.138, val macro: 0.954, val micro: 0.959 val sample: 0.890 val weighted: 0.959\n",
      "epoch: 2, batch: 400, train loss: 0.127, train macro: 0.956, train micro: 0.961, train sample: 0.894, train weighted 0.961, val loss: 0.135, val macro: 0.955, val micro: 0.959 val sample: 0.892 val weighted: 0.960\n",
      "epoch: 2, batch: 500, train loss: 0.123, train macro: 0.958, train micro: 0.962, train sample: 0.895, train weighted 0.963, val loss: 0.135, val macro: 0.954, val micro: 0.959 val sample: 0.890 val weighted: 0.959\n",
      "epoch: 3, batch: 100, train loss: 0.101, train macro: 0.963, train micro: 0.968, train sample: 0.895, train weighted 0.969, val loss: 0.140, val macro: 0.951, val micro: 0.956 val sample: 0.889 val weighted: 0.957\n",
      "epoch: 3, batch: 200, train loss: 0.103, train macro: 0.964, train micro: 0.968, train sample: 0.902, train weighted 0.969, val loss: 0.135, val macro: 0.954, val micro: 0.959 val sample: 0.891 val weighted: 0.959\n",
      "epoch: 3, batch: 300, train loss: 0.102, train macro: 0.964, train micro: 0.968, train sample: 0.897, train weighted 0.968, val loss: 0.138, val macro: 0.955, val micro: 0.959 val sample: 0.892 val weighted: 0.960\n",
      "epoch: 3, batch: 400, train loss: 0.106, train macro: 0.962, train micro: 0.967, train sample: 0.899, train weighted 0.967, val loss: 0.134, val macro: 0.954, val micro: 0.958 val sample: 0.891 val weighted: 0.959\n"
     ]
    },
    {
     "ename": "KeyboardInterrupt",
     "evalue": "",
     "output_type": "error",
     "traceback": [
      "\u001b[0;31m---------------------------------------------------------------------------\u001b[0m",
      "\u001b[0;31mKeyboardInterrupt\u001b[0m                         Traceback (most recent call last)",
      "Cell \u001b[0;32mIn[61], line 26\u001b[0m\n\u001b[1;32m     23\u001b[0m         val_loader \u001b[38;5;241m=\u001b[39m val_loader_4096\n\u001b[1;32m     24\u001b[0m         input_size \u001b[38;5;241m=\u001b[39m \u001b[38;5;241m256\u001b[39m\n\u001b[0;32m---> 26\u001b[0m train_metrics, val_metrics \u001b[38;5;241m=\u001b[39m \u001b[43mtrain\u001b[49m\u001b[43m(\u001b[49m\u001b[43mtransformer\u001b[49m\u001b[43m,\u001b[49m\u001b[43m \u001b[49m\u001b[43mcriterion\u001b[49m\u001b[43m,\u001b[49m\u001b[43m \u001b[49m\u001b[43moptimizer\u001b[49m\u001b[43m,\u001b[49m\u001b[43m \u001b[49m\u001b[43mtrain_loader\u001b[49m\u001b[43m,\u001b[49m\u001b[43m \u001b[49m\u001b[43mval_loader\u001b[49m\u001b[43m,\u001b[49m\u001b[43m \u001b[49m\u001b[38;5;241;43m3\u001b[39;49m\u001b[43m,\u001b[49m\u001b[43m \u001b[49m\u001b[38;5;241;43m0.5\u001b[39;49m\u001b[43m,\u001b[49m\u001b[43m \u001b[49m\u001b[43mdevice\u001b[49m\u001b[43m \u001b[49m\u001b[38;5;241;43m=\u001b[39;49m\u001b[43m \u001b[49m\u001b[38;5;124;43m'\u001b[39;49m\u001b[38;5;124;43mcpu\u001b[39;49m\u001b[38;5;124;43m'\u001b[39;49m\u001b[43m)\u001b[49m\n\u001b[1;32m     28\u001b[0m \u001b[38;5;28mprint\u001b[39m(\u001b[38;5;124m\"\u001b[39m\u001b[38;5;124mTEST \u001b[39m\u001b[38;5;124m\"\u001b[39m \u001b[38;5;241m+\u001b[39m \u001b[38;5;28minput\u001b[39m)\n\u001b[1;32m     30\u001b[0m test_metrics \u001b[38;5;241m=\u001b[39m inference(transformer, criterion, test_loader, \u001b[38;5;241m0.5\u001b[39m, device \u001b[38;5;241m=\u001b[39m \u001b[38;5;124m'\u001b[39m\u001b[38;5;124mcpu\u001b[39m\u001b[38;5;124m'\u001b[39m)\n",
      "File \u001b[0;32m~/Projects/RandomTransformer/Transformer/Model.py:166\u001b[0m, in \u001b[0;36mtrain\u001b[0;34m(transformer, criterion, optimizer, train_loader, val_loader, epochs, threshold, device)\u001b[0m\n\u001b[1;32m    164\u001b[0m \u001b[38;5;66;03m#forward pass\u001b[39;00m\n\u001b[1;32m    165\u001b[0m optimizer\u001b[38;5;241m.\u001b[39mzero_grad()\n\u001b[0;32m--> 166\u001b[0m output \u001b[38;5;241m=\u001b[39m \u001b[43mtransformer\u001b[49m\u001b[43m(\u001b[49m\u001b[43mqueues\u001b[49m\u001b[43m)\u001b[49m\n\u001b[1;32m    167\u001b[0m loss \u001b[38;5;241m=\u001b[39m criterion(output, labels)\n\u001b[1;32m    169\u001b[0m \u001b[38;5;66;03m#backward pass\u001b[39;00m\n",
      "File \u001b[0;32m~/.conda/envs/Randomness-env/lib/python3.12/site-packages/torch/nn/modules/module.py:1532\u001b[0m, in \u001b[0;36mModule._wrapped_call_impl\u001b[0;34m(self, *args, **kwargs)\u001b[0m\n\u001b[1;32m   1530\u001b[0m     \u001b[38;5;28;01mreturn\u001b[39;00m \u001b[38;5;28mself\u001b[39m\u001b[38;5;241m.\u001b[39m_compiled_call_impl(\u001b[38;5;241m*\u001b[39margs, \u001b[38;5;241m*\u001b[39m\u001b[38;5;241m*\u001b[39mkwargs)  \u001b[38;5;66;03m# type: ignore[misc]\u001b[39;00m\n\u001b[1;32m   1531\u001b[0m \u001b[38;5;28;01melse\u001b[39;00m:\n\u001b[0;32m-> 1532\u001b[0m     \u001b[38;5;28;01mreturn\u001b[39;00m \u001b[38;5;28;43mself\u001b[39;49m\u001b[38;5;241;43m.\u001b[39;49m\u001b[43m_call_impl\u001b[49m\u001b[43m(\u001b[49m\u001b[38;5;241;43m*\u001b[39;49m\u001b[43margs\u001b[49m\u001b[43m,\u001b[49m\u001b[43m \u001b[49m\u001b[38;5;241;43m*\u001b[39;49m\u001b[38;5;241;43m*\u001b[39;49m\u001b[43mkwargs\u001b[49m\u001b[43m)\u001b[49m\n",
      "File \u001b[0;32m~/.conda/envs/Randomness-env/lib/python3.12/site-packages/torch/nn/modules/module.py:1541\u001b[0m, in \u001b[0;36mModule._call_impl\u001b[0;34m(self, *args, **kwargs)\u001b[0m\n\u001b[1;32m   1536\u001b[0m \u001b[38;5;66;03m# If we don't have any hooks, we want to skip the rest of the logic in\u001b[39;00m\n\u001b[1;32m   1537\u001b[0m \u001b[38;5;66;03m# this function, and just call forward.\u001b[39;00m\n\u001b[1;32m   1538\u001b[0m \u001b[38;5;28;01mif\u001b[39;00m \u001b[38;5;129;01mnot\u001b[39;00m (\u001b[38;5;28mself\u001b[39m\u001b[38;5;241m.\u001b[39m_backward_hooks \u001b[38;5;129;01mor\u001b[39;00m \u001b[38;5;28mself\u001b[39m\u001b[38;5;241m.\u001b[39m_backward_pre_hooks \u001b[38;5;129;01mor\u001b[39;00m \u001b[38;5;28mself\u001b[39m\u001b[38;5;241m.\u001b[39m_forward_hooks \u001b[38;5;129;01mor\u001b[39;00m \u001b[38;5;28mself\u001b[39m\u001b[38;5;241m.\u001b[39m_forward_pre_hooks\n\u001b[1;32m   1539\u001b[0m         \u001b[38;5;129;01mor\u001b[39;00m _global_backward_pre_hooks \u001b[38;5;129;01mor\u001b[39;00m _global_backward_hooks\n\u001b[1;32m   1540\u001b[0m         \u001b[38;5;129;01mor\u001b[39;00m _global_forward_hooks \u001b[38;5;129;01mor\u001b[39;00m _global_forward_pre_hooks):\n\u001b[0;32m-> 1541\u001b[0m     \u001b[38;5;28;01mreturn\u001b[39;00m \u001b[43mforward_call\u001b[49m\u001b[43m(\u001b[49m\u001b[38;5;241;43m*\u001b[39;49m\u001b[43margs\u001b[49m\u001b[43m,\u001b[49m\u001b[43m \u001b[49m\u001b[38;5;241;43m*\u001b[39;49m\u001b[38;5;241;43m*\u001b[39;49m\u001b[43mkwargs\u001b[49m\u001b[43m)\u001b[49m\n\u001b[1;32m   1543\u001b[0m \u001b[38;5;28;01mtry\u001b[39;00m:\n\u001b[1;32m   1544\u001b[0m     result \u001b[38;5;241m=\u001b[39m \u001b[38;5;28;01mNone\u001b[39;00m\n",
      "Cell \u001b[0;32mIn[60], line 39\u001b[0m, in \u001b[0;36mRNN.forward\u001b[0;34m(self, x)\u001b[0m\n\u001b[1;32m     37\u001b[0m x \u001b[38;5;241m=\u001b[39m \u001b[38;5;28mself\u001b[39m\u001b[38;5;241m.\u001b[39membedding(x)\n\u001b[1;32m     38\u001b[0m \u001b[38;5;66;03m# x = self.pe(x)\u001b[39;00m\n\u001b[0;32m---> 39\u001b[0m out, _ \u001b[38;5;241m=\u001b[39m \u001b[38;5;28;43mself\u001b[39;49m\u001b[38;5;241;43m.\u001b[39;49m\u001b[43mrnn\u001b[49m\u001b[43m(\u001b[49m\u001b[43mx\u001b[49m\u001b[43m,\u001b[49m\u001b[43m \u001b[49m\u001b[43m(\u001b[49m\u001b[43mh0\u001b[49m\u001b[43m,\u001b[49m\u001b[43m \u001b[49m\u001b[43mc0\u001b[49m\u001b[43m)\u001b[49m\u001b[43m)\u001b[49m\n\u001b[1;32m     40\u001b[0m \u001b[38;5;66;03m# out = out[:, -1, :]\u001b[39;00m\n\u001b[1;32m     41\u001b[0m out \u001b[38;5;241m=\u001b[39m torch\u001b[38;5;241m.\u001b[39mmean(out, \u001b[38;5;241m1\u001b[39m)\n",
      "File \u001b[0;32m~/.conda/envs/Randomness-env/lib/python3.12/site-packages/torch/nn/modules/module.py:1532\u001b[0m, in \u001b[0;36mModule._wrapped_call_impl\u001b[0;34m(self, *args, **kwargs)\u001b[0m\n\u001b[1;32m   1530\u001b[0m     \u001b[38;5;28;01mreturn\u001b[39;00m \u001b[38;5;28mself\u001b[39m\u001b[38;5;241m.\u001b[39m_compiled_call_impl(\u001b[38;5;241m*\u001b[39margs, \u001b[38;5;241m*\u001b[39m\u001b[38;5;241m*\u001b[39mkwargs)  \u001b[38;5;66;03m# type: ignore[misc]\u001b[39;00m\n\u001b[1;32m   1531\u001b[0m \u001b[38;5;28;01melse\u001b[39;00m:\n\u001b[0;32m-> 1532\u001b[0m     \u001b[38;5;28;01mreturn\u001b[39;00m \u001b[38;5;28;43mself\u001b[39;49m\u001b[38;5;241;43m.\u001b[39;49m\u001b[43m_call_impl\u001b[49m\u001b[43m(\u001b[49m\u001b[38;5;241;43m*\u001b[39;49m\u001b[43margs\u001b[49m\u001b[43m,\u001b[49m\u001b[43m \u001b[49m\u001b[38;5;241;43m*\u001b[39;49m\u001b[38;5;241;43m*\u001b[39;49m\u001b[43mkwargs\u001b[49m\u001b[43m)\u001b[49m\n",
      "File \u001b[0;32m~/.conda/envs/Randomness-env/lib/python3.12/site-packages/torch/nn/modules/module.py:1541\u001b[0m, in \u001b[0;36mModule._call_impl\u001b[0;34m(self, *args, **kwargs)\u001b[0m\n\u001b[1;32m   1536\u001b[0m \u001b[38;5;66;03m# If we don't have any hooks, we want to skip the rest of the logic in\u001b[39;00m\n\u001b[1;32m   1537\u001b[0m \u001b[38;5;66;03m# this function, and just call forward.\u001b[39;00m\n\u001b[1;32m   1538\u001b[0m \u001b[38;5;28;01mif\u001b[39;00m \u001b[38;5;129;01mnot\u001b[39;00m (\u001b[38;5;28mself\u001b[39m\u001b[38;5;241m.\u001b[39m_backward_hooks \u001b[38;5;129;01mor\u001b[39;00m \u001b[38;5;28mself\u001b[39m\u001b[38;5;241m.\u001b[39m_backward_pre_hooks \u001b[38;5;129;01mor\u001b[39;00m \u001b[38;5;28mself\u001b[39m\u001b[38;5;241m.\u001b[39m_forward_hooks \u001b[38;5;129;01mor\u001b[39;00m \u001b[38;5;28mself\u001b[39m\u001b[38;5;241m.\u001b[39m_forward_pre_hooks\n\u001b[1;32m   1539\u001b[0m         \u001b[38;5;129;01mor\u001b[39;00m _global_backward_pre_hooks \u001b[38;5;129;01mor\u001b[39;00m _global_backward_hooks\n\u001b[1;32m   1540\u001b[0m         \u001b[38;5;129;01mor\u001b[39;00m _global_forward_hooks \u001b[38;5;129;01mor\u001b[39;00m _global_forward_pre_hooks):\n\u001b[0;32m-> 1541\u001b[0m     \u001b[38;5;28;01mreturn\u001b[39;00m \u001b[43mforward_call\u001b[49m\u001b[43m(\u001b[49m\u001b[38;5;241;43m*\u001b[39;49m\u001b[43margs\u001b[49m\u001b[43m,\u001b[49m\u001b[43m \u001b[49m\u001b[38;5;241;43m*\u001b[39;49m\u001b[38;5;241;43m*\u001b[39;49m\u001b[43mkwargs\u001b[49m\u001b[43m)\u001b[49m\n\u001b[1;32m   1543\u001b[0m \u001b[38;5;28;01mtry\u001b[39;00m:\n\u001b[1;32m   1544\u001b[0m     result \u001b[38;5;241m=\u001b[39m \u001b[38;5;28;01mNone\u001b[39;00m\n",
      "File \u001b[0;32m~/.conda/envs/Randomness-env/lib/python3.12/site-packages/torch/nn/modules/rnn.py:911\u001b[0m, in \u001b[0;36mLSTM.forward\u001b[0;34m(self, input, hx)\u001b[0m\n\u001b[1;32m    908\u001b[0m         hx \u001b[38;5;241m=\u001b[39m \u001b[38;5;28mself\u001b[39m\u001b[38;5;241m.\u001b[39mpermute_hidden(hx, sorted_indices)\n\u001b[1;32m    910\u001b[0m \u001b[38;5;28;01mif\u001b[39;00m batch_sizes \u001b[38;5;129;01mis\u001b[39;00m \u001b[38;5;28;01mNone\u001b[39;00m:\n\u001b[0;32m--> 911\u001b[0m     result \u001b[38;5;241m=\u001b[39m \u001b[43m_VF\u001b[49m\u001b[38;5;241;43m.\u001b[39;49m\u001b[43mlstm\u001b[49m\u001b[43m(\u001b[49m\u001b[38;5;28;43minput\u001b[39;49m\u001b[43m,\u001b[49m\u001b[43m \u001b[49m\u001b[43mhx\u001b[49m\u001b[43m,\u001b[49m\u001b[43m \u001b[49m\u001b[38;5;28;43mself\u001b[39;49m\u001b[38;5;241;43m.\u001b[39;49m\u001b[43m_flat_weights\u001b[49m\u001b[43m,\u001b[49m\u001b[43m \u001b[49m\u001b[38;5;28;43mself\u001b[39;49m\u001b[38;5;241;43m.\u001b[39;49m\u001b[43mbias\u001b[49m\u001b[43m,\u001b[49m\u001b[43m \u001b[49m\u001b[38;5;28;43mself\u001b[39;49m\u001b[38;5;241;43m.\u001b[39;49m\u001b[43mnum_layers\u001b[49m\u001b[43m,\u001b[49m\n\u001b[1;32m    912\u001b[0m \u001b[43m                      \u001b[49m\u001b[38;5;28;43mself\u001b[39;49m\u001b[38;5;241;43m.\u001b[39;49m\u001b[43mdropout\u001b[49m\u001b[43m,\u001b[49m\u001b[43m \u001b[49m\u001b[38;5;28;43mself\u001b[39;49m\u001b[38;5;241;43m.\u001b[39;49m\u001b[43mtraining\u001b[49m\u001b[43m,\u001b[49m\u001b[43m \u001b[49m\u001b[38;5;28;43mself\u001b[39;49m\u001b[38;5;241;43m.\u001b[39;49m\u001b[43mbidirectional\u001b[49m\u001b[43m,\u001b[49m\u001b[43m \u001b[49m\u001b[38;5;28;43mself\u001b[39;49m\u001b[38;5;241;43m.\u001b[39;49m\u001b[43mbatch_first\u001b[49m\u001b[43m)\u001b[49m\n\u001b[1;32m    913\u001b[0m \u001b[38;5;28;01melse\u001b[39;00m:\n\u001b[1;32m    914\u001b[0m     result \u001b[38;5;241m=\u001b[39m _VF\u001b[38;5;241m.\u001b[39mlstm(\u001b[38;5;28minput\u001b[39m, batch_sizes, hx, \u001b[38;5;28mself\u001b[39m\u001b[38;5;241m.\u001b[39m_flat_weights, \u001b[38;5;28mself\u001b[39m\u001b[38;5;241m.\u001b[39mbias,\n\u001b[1;32m    915\u001b[0m                       \u001b[38;5;28mself\u001b[39m\u001b[38;5;241m.\u001b[39mnum_layers, \u001b[38;5;28mself\u001b[39m\u001b[38;5;241m.\u001b[39mdropout, \u001b[38;5;28mself\u001b[39m\u001b[38;5;241m.\u001b[39mtraining, \u001b[38;5;28mself\u001b[39m\u001b[38;5;241m.\u001b[39mbidirectional)\n",
      "\u001b[0;31mKeyboardInterrupt\u001b[0m: "
     ]
    }
   ],
   "source": [
    "for averaging in [True]:\n",
    "    average = \"Averaging\" if averaging else \"NonAveraging\"\n",
    "    for input in ['512', '1024', '2048']:\n",
    "        match input:\n",
    "            case \"512\":\n",
    "                train_loader = train_loader_512\n",
    "                test_loader = test_loader_512\n",
    "                val_loader = val_loader_512\n",
    "                input_size = 32\n",
    "            case \"1024\":\n",
    "                train_loader = train_loader_1024\n",
    "                test_loader = test_loader_1024\n",
    "                val_loader = val_loader_1024\n",
    "                input_size = 64\n",
    "            case \"2048\":\n",
    "                train_loader = train_loader_2048\n",
    "                test_loader = test_loader_2048\n",
    "                val_loader = val_loader_2048\n",
    "                input_size = 128\n",
    "            # case \"4096\":\n",
    "            #     train_loader = train_loader_4096\n",
    "            #     test_loader = test_loader_4096\n",
    "            #     val_loader = val_loader_4096\n",
    "            #     input_size = 256\n",
    "        \n",
    "        train_metrics, val_metrics = train(transformer, criterion, optimizer, train_loader, val_loader, 3, 0.40, device = 'cpu')\n",
    "        \n",
    "        print(\"TEST \" + input)\n",
    "\n",
    "        test_metrics = inference(transformer, criterion, test_loader, 0.40, device = 'cpu')"
   ]
  },
  {
   "cell_type": "markdown",
   "metadata": {},
   "source": [
    "# Training Model"
   ]
  },
  {
   "cell_type": "code",
   "execution_count": 6,
   "metadata": {},
   "outputs": [
    {
     "name": "stdout",
     "output_type": "stream",
     "text": [
      "TRAIN 1024\n"
     ]
    },
    {
     "name": "stderr",
     "output_type": "stream",
     "text": [
      "/home/rishabhg/.conda/envs/Randomness-env/lib/python3.12/site-packages/torch/nn/modules/transformer.py:306: UserWarning: enable_nested_tensor is True, but self.use_nested_tensor is False because encoder_layer.self_attn.batch_first was not True(use batch_first for better inference performance)\n",
      "  warnings.warn(f\"enable_nested_tensor is True, but self.use_nested_tensor is False because {why_not_sparsity_fast_path}\")\n"
     ]
    },
    {
     "name": "stdout",
     "output_type": "stream",
     "text": [
      "epoch: 1, batch: 100, train loss: 36.266, train macro: 0.505, train micro: 0.700, train sample: 0.645, train weighted 0.575, val loss: 37.512, val macro: 0.481, val micro: 0.690 val sample: 0.635 val weighted: 0.553\n",
      "epoch: 1, batch: 200, train loss: 37.701, train macro: 0.482, train micro: 0.689, train sample: 0.635, train weighted 0.552, val loss: 37.505, val macro: 0.481, val micro: 0.690 val sample: 0.635 val weighted: 0.553\n",
      "epoch: 1, batch: 300, train loss: 37.760, train macro: 0.480, train micro: 0.688, train sample: 0.632, train weighted 0.551, val loss: 37.510, val macro: 0.481, val micro: 0.690 val sample: 0.635 val weighted: 0.553\n",
      "epoch: 1, batch: 400, train loss: 37.599, train macro: 0.481, train micro: 0.689, train sample: 0.635, train weighted 0.553, val loss: 37.501, val macro: 0.481, val micro: 0.690 val sample: 0.635 val weighted: 0.553\n",
      "epoch: 1, batch: 500, train loss: 37.281, train macro: 0.481, train micro: 0.691, train sample: 0.637, train weighted 0.555, val loss: 37.508, val macro: 0.481, val micro: 0.690 val sample: 0.635 val weighted: 0.553\n",
      "epoch: 1, batch: 600, train loss: 37.614, train macro: 0.481, train micro: 0.689, train sample: 0.634, train weighted 0.552, val loss: 37.510, val macro: 0.481, val micro: 0.690 val sample: 0.635 val weighted: 0.553\n",
      "epoch: 2, batch: 100, train loss: 37.654, train macro: 0.482, train micro: 0.689, train sample: 0.635, train weighted 0.552, val loss: 37.506, val macro: 0.481, val micro: 0.690 val sample: 0.635 val weighted: 0.553\n",
      "epoch: 2, batch: 200, train loss: 37.729, train macro: 0.481, train micro: 0.688, train sample: 0.633, train weighted 0.551, val loss: 37.503, val macro: 0.481, val micro: 0.690 val sample: 0.635 val weighted: 0.553\n",
      "epoch: 2, batch: 300, train loss: 37.413, train macro: 0.482, train micro: 0.691, train sample: 0.637, train weighted 0.555, val loss: 37.506, val macro: 0.481, val micro: 0.690 val sample: 0.635 val weighted: 0.553\n",
      "epoch: 2, batch: 400, train loss: 37.813, train macro: 0.479, train micro: 0.686, train sample: 0.631, train weighted 0.550, val loss: 37.511, val macro: 0.481, val micro: 0.690 val sample: 0.635 val weighted: 0.553\n",
      "epoch: 2, batch: 500, train loss: 37.241, train macro: 0.483, train micro: 0.693, train sample: 0.640, train weighted 0.557, val loss: 37.513, val macro: 0.481, val micro: 0.690 val sample: 0.635 val weighted: 0.553\n",
      "epoch: 2, batch: 600, train loss: 37.398, train macro: 0.481, train micro: 0.690, train sample: 0.636, train weighted 0.554, val loss: 37.509, val macro: 0.481, val micro: 0.690 val sample: 0.635 val weighted: 0.553\n",
      "epoch: 3, batch: 100, train loss: 37.874, train macro: 0.480, train micro: 0.687, train sample: 0.631, train weighted 0.549, val loss: 37.509, val macro: 0.481, val micro: 0.690 val sample: 0.635 val weighted: 0.553\n",
      "epoch: 3, batch: 200, train loss: 37.468, train macro: 0.481, train micro: 0.690, train sample: 0.636, train weighted 0.554, val loss: 37.501, val macro: 0.481, val micro: 0.690 val sample: 0.635 val weighted: 0.553\n",
      "epoch: 3, batch: 300, train loss: 37.492, train macro: 0.482, train micro: 0.690, train sample: 0.636, train weighted 0.554, val loss: 37.508, val macro: 0.481, val micro: 0.690 val sample: 0.635 val weighted: 0.553\n",
      "epoch: 3, batch: 400, train loss: 37.438, train macro: 0.482, train micro: 0.691, train sample: 0.637, train weighted 0.554, val loss: 37.512, val macro: 0.481, val micro: 0.690 val sample: 0.635 val weighted: 0.553\n",
      "epoch: 3, batch: 500, train loss: 37.461, train macro: 0.480, train micro: 0.689, train sample: 0.634, train weighted 0.553, val loss: 37.507, val macro: 0.481, val micro: 0.690 val sample: 0.635 val weighted: 0.553\n",
      "epoch: 3, batch: 600, train loss: 37.631, train macro: 0.483, train micro: 0.690, train sample: 0.636, train weighted 0.553, val loss: 37.505, val macro: 0.481, val micro: 0.690 val sample: 0.635 val weighted: 0.553\n",
      "TEST 1024\n",
      "Loss: 37.569\n",
      "Micro F1: 0.482\n",
      "Macro F1: 0.690\n",
      "Sample F1: 0.636\n",
      "Weighted F1: 0.553\n",
      "Time: 2.711\n"
     ]
    }
   ],
   "source": [
    "test = \"EmbeddingsResults/\"\n",
    "test_types = [288]\n",
    "\n",
    "for test_number in test_types:\n",
    "    emsize = test_number\n",
    "    d_hid = test_number\n",
    "    test_type = \"/\" + str(test_number) + \"emsize/\"\n",
    "\n",
    "    for averaging in [False]:\n",
    "        average = \"Averaging\" if averaging else \"NonAveraging\"\n",
    "        for input in [\"1024\"]:\n",
    "            match input:\n",
    "                case \"512\":\n",
    "                    train_loader = train_loader_512\n",
    "                    test_loader = test_loader_512\n",
    "                    val_loader = val_loader_512\n",
    "                    path = test + average + test_type + input\n",
    "                    input_size = 32\n",
    "                case \"1024\":\n",
    "                    train_loader = train_loader_1024\n",
    "                    test_loader = test_loader_1024\n",
    "                    val_loader = val_loader_1024\n",
    "                    path = test + average + test_type + input\n",
    "                    input_size = 64\n",
    "                case \"2048\":\n",
    "                    train_loader = train_loader_2048\n",
    "                    test_loader = test_loader_2048\n",
    "                    val_loader = val_loader_2048\n",
    "                    path = test + average + test_type + input\n",
    "                    input_size = 128\n",
    "                # case \"4096\":\n",
    "                #     train_loader = train_loader_4096\n",
    "                #     test_loader = test_loader_4096\n",
    "                #     val_loader = val_loader_4096\n",
    "                #     path = test + average + test_type + input\n",
    "                #     input_size = 256\n",
    "\n",
    "            print(\"TRAIN \" + input)\n",
    "\n",
    "            torch.cuda.empty_cache() if torch.cuda.is_available() else None\n",
    "\n",
    "            transformer = RandomLM(ntokens, emsize, nhead, d_hid, nlayers, input_size, dropout, averaging).to(device)\n",
    "            criterion = nn.BCELoss().to(device)\n",
    "            optimizer = torch.optim.Adam(transformer.parameters())\n",
    "\n",
    "            train_metrics, val_metrics = train(transformer, criterion, optimizer, train_loader, val_loader, 3, threshold, device = device)\n",
    "            \n",
    "            print(\"TEST \" + input)\n",
    "\n",
    "            test_metrics = inference(transformer, criterion, test_loader, threshold, device = device)\n",
    "            model_save(transformer, path, train_metrics, val_metrics, test_metrics)\n",
    "\n",
    "    del transformer, criterion, optimizer"
   ]
  },
  {
   "cell_type": "markdown",
   "metadata": {},
   "source": [
    "# Pre-Trained Models"
   ]
  },
  {
   "cell_type": "markdown",
   "metadata": {},
   "source": [
    "## Metrics"
   ]
  },
  {
   "cell_type": "code",
   "execution_count": null,
   "metadata": {},
   "outputs": [],
   "source": [
    "path = \"TrainedModels/240embeddings-3encoder-24heads-128tokensize\"\n",
    "\n",
    "with ZipFile(path + \".zip\", \"r\") as myzip:\n",
    "    myzip.extractall(\"temp/\")\n",
    "\n",
    "train_metrics = pd.read_csv(\"temp/train_metrics.csv\", index_col = 0)\n",
    "val_metrics = pd.read_csv(\"temp/val_metrics.csv\", index_col = 0)\n",
    "\n",
    "plot_metrics(train_metrics, val_metrics)"
   ]
  },
  {
   "cell_type": "code",
   "execution_count": 2,
   "metadata": {},
   "outputs": [
    {
     "data": {
      "image/png": "[encoded data removed]",
      "text/plain": [
       "<Figure size 640x480 with 1 Axes>"
      ]
     },
     "metadata": {},
     "output_type": "display_data"
    },
    {
     "data": {
      "image/png": "[encoded data removed]",
      "text/plain": [
       "<Figure size 640x480 with 1 Axes>"
      ]
     },
     "metadata": {},
     "output_type": "display_data"
    }
   ],
   "source": [
    "path1 = 'EncoderResults/'\n",
    "tests1 = ['1encoder/', '2encoder/', '3encoder/', '4encoder/', '5encoder/', '6encoder/', '7encoder/', '8encoder/']\n",
    "\n",
    "path2 = 'HeadsResults/'\n",
    "tests2 = ['1head/', '2head/', '4head/', '6head/', '8head/', '12head/', '16head/', '20head/', '24head/']\n",
    "\n",
    "path3 = 'EmbeddingsResults/'\n",
    "tests3 = ['144emsize/', '192emsize/', '240emsize/', '288emsize/', '336emsize/', '384emsize/']\n",
    "\n",
    "visualize_exeperiment(path3, tests3, 'Time')"
   ]
  },
  {
   "cell_type": "markdown",
   "metadata": {},
   "source": [
    "## Inference"
   ]
  },
  {
   "cell_type": "code",
   "execution_count": null,
   "metadata": {},
   "outputs": [],
   "source": [
    "model = torch.load(\"temp/model.pt\")\n",
    "\n",
    "# data_loader = None #loader for the data\n",
    "# inference(model, criterion, test_loader, threshold)"
   ]
  },
  {
   "cell_type": "code",
   "execution_count": 2,
   "metadata": {},
   "outputs": [],
   "source": [
    "import os \n",
    "\n",
    "os.remove(\"temp/train_metrics.csv\")\n",
    "os.remove(\"temp/val_metrics.csv\")\n",
    "if (os.path.exists(\"temp/model.pth\")):\n",
    "    os.remove(\"temp/model.pth\")\n",
    "if (os.path.exists(\"temp/model.pt\")):\n",
    "    os.remove(\"temp/model.pt\")\n",
    "os.rmdir(\"temp\")"
   ]
  }
 ],
 "metadata": {
  "kernelspec": {
   "display_name": "Randomness_Testing",
   "language": "python",
   "name": "python3"
  },
  "language_info": {
   "codemirror_mode": {
    "name": "ipython",
    "version": 3
   },
   "file_extension": ".py",
   "mimetype": "text/x-python",
   "name": "python",
   "nbconvert_exporter": "python",
   "pygments_lexer": "ipython3",
   "version": "3.12.3"
  }
 },
 "nbformat": 4,
 "nbformat_minor": 2
}
