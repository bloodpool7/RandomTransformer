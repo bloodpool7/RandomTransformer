{
 "cells": [
  {
   "cell_type": "code",
   "execution_count": 1,
   "metadata": {},
   "outputs": [
    {
     "name": "stderr",
     "output_type": "stream",
     "text": [
      "/var/folders/5m/5bz8j_1n6bv7tpcnz6sjyc280000gn/T/ipykernel_9465/4160086905.py:3: DeprecationWarning: \n",
      "Pyarrow will become a required dependency of pandas in the next major release of pandas (pandas 3.0),\n",
      "(to allow more performant data types, such as the Arrow string type, and better interoperability with other libraries)\n",
      "but was not found to be installed on your system.\n",
      "If this would cause problems for you,\n",
      "please provide us feedback at https://github.com/pandas-dev/pandas/issues/54466\n",
      "        \n",
      "  import pandas as pd\n"
     ]
    }
   ],
   "source": [
    "from Model import *\n",
    "import torch.nn as nn\n",
    "import pandas as pd\n",
    "\n",
    "#get the data\n",
    "data = pd.read_csv(\"Data/dataset.csv\")\n",
    "train = data['queue'].values\n",
    "labels = data['label'].values\n",
    "tokenized = tokenize(train)"
   ]
  },
  {
   "cell_type": "code",
   "execution_count": null,
   "metadata": {},
   "outputs": [],
   "source": [
    "#model hyperparameters \n",
    "ntokens = 65536  # size of vocabulary\n",
    "emsize = 200  # embedding dimension\n",
    "d_hid = 200  # dimension of the feedforward network model in ``nn.TransformerEncoder``\n",
    "nlayers = 3  # number of ``nn.TransformerEncoderLayer`` in ``nn.TransformerEncoder``\n",
    "nhead = 2  # number of heads in ``nn.MultiheadAttention``\n",
    "dropout = 0.2  # dropout probability\n",
    "\n",
    "#define the model \n",
    "transformer = TransformerModel(ntokens, emsize, nhead, d_hid, nlayers, dropout)\n",
    "criterion = nn.MSELoss()\n",
    "optimizer = torch.optim.Adam(transformer.parameters())\n",
    "\n",
    "#training loop\n",
    "for i in range(3):\n",
    "    transformer.train()\n",
    "    for j in range(10):\n",
    "        optimizer.zero_grad()\n",
    "        input = tokenized[j*128:j*128+128]\n",
    "        output = transformer(input)\n",
    "        loss = criterion(output, torch.Tensor(labels[j*128:j*128+128]).reshape(-1, 1))\n",
    "\n",
    "        loss.backward()\n",
    "        optimizer.step()\n",
    "        print(loss)\n",
    "    print(\"epoch finished\")"
   ]
  }
 ],
 "metadata": {
  "kernelspec": {
   "display_name": "Randomness_Testing",
   "language": "python",
   "name": "python3"
  },
  "language_info": {
   "codemirror_mode": {
    "name": "ipython",
    "version": 3
   },
   "file_extension": ".py",
   "mimetype": "text/x-python",
   "name": "python",
   "nbconvert_exporter": "python",
   "pygments_lexer": "ipython3",
   "version": "3.11.4"
  }
 },
 "nbformat": 4,
 "nbformat_minor": 2
}
