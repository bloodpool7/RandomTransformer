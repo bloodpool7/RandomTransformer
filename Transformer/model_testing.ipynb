{
 "cells": [
  {
   "cell_type": "markdown",
   "metadata": {},
   "source": [
    "# Loading the Datasets"
   ]
  },
  {
   "cell_type": "code",
   "execution_count": 37,
   "metadata": {},
   "outputs": [],
   "source": [
    "from Model import *\n",
    "import torch.nn as nn\n",
    "from torch.utils.data import DataLoader\n",
    "import pandas as pd\n",
    "\n",
    "#get the data\n",
    "split_ratio = 0.8\n",
    "val_ratio = 0.2\n",
    "data = pd.read_csv(\"Data/dataset_2048_large.csv\", dtype = str)\n",
    "train_df = data.sample(frac = split_ratio)\n",
    "test_df = data.drop(train_df.index)\n",
    "val_df = train_df.sample(frac = val_ratio)\n",
    "train_df = train_df.drop(val_df.index)\n",
    "\n",
    "train_dataset = QueueDataset(train_df)\n",
    "test_dataset = QueueDataset(test_df)\n",
    "val_dataset = QueueDataset(val_df)\n",
    "\n",
    "#initialize the data loader \n",
    "train_loader = DataLoader(train_dataset, batch_size = 128, shuffle = True)\n",
    "test_loader = DataLoader(test_dataset, batch_size = 128, shuffle = True)\n",
    "val_loader = DataLoader(val_dataset, batch_size = 128, shuffle = True)"
   ]
  },
  {
   "cell_type": "markdown",
   "metadata": {},
   "source": [
    "# Defining the Model"
   ]
  },
  {
   "cell_type": "code",
   "execution_count": null,
   "metadata": {},
   "outputs": [],
   "source": [
    "#model hyperparameters \n",
    "ntokens = 65536  # size of vocabulary\n",
    "emsize = 768  # embedding dimension\n",
    "d_hid = 768  # dimension of the feedforward network model in ``nn.TransformerEncoder``\n",
    "nlayers = 4  # number of ``nn.TransformerEncoderLayer`` in ``nn.TransformerEncoder``\n",
    "nhead = 8 # number of heads in ``nn.MultiheadAttention``\n",
    "dropout = 0.2  # dropout probability\n",
    "input_size = 128\n",
    "threshold = 0.5\n",
    "\n",
    "#define the model \n",
    "device = \"cpu\"\n",
    "transformer = RandomLM(ntokens, emsize, nhead, d_hid, nlayers, input_size, dropout).to(device)\n",
    "criterion = nn.BCELoss().to(device)\n",
    "optimizer = torch.optim.Adam(transformer.parameters())"
   ]
  },
  {
   "cell_type": "markdown",
   "metadata": {},
   "source": [
    "# Training Model"
   ]
  },
  {
   "cell_type": "code",
   "execution_count": null,
   "metadata": {},
   "outputs": [],
   "source": [
    "save = True \n",
    "path = str(emsize) + \"embeddings-\" + str(nlayers) + \"encoder-\" + str(nhead) + \"heads-\" + str(input_size) + \"tokensize\" + \"_large\"\n",
    "\n",
    "train_metrics, val_metrics = train(transformer, criterion, optimizer, train_loader, val_loader, 3, threshold)\n",
    "plot_metrics(train_metrics, val_metrics)\n",
    "inference(transformer, criterion, test_loader, threshold)\n",
    "model_save(transformer, path, train_metrics, val_metrics)"
   ]
  },
  {
   "cell_type": "markdown",
   "metadata": {},
   "source": [
    "# Pre-Trained Models"
   ]
  },
  {
   "cell_type": "markdown",
   "metadata": {},
   "source": [
    "## Metrics"
   ]
  },
  {
   "cell_type": "code",
   "execution_count": null,
   "metadata": {},
   "outputs": [],
   "source": [
    "path = \"TrainedModels/240embeddings-3encoder-8heads-128tokensize\"\n",
    "\n",
    "with ZipFile(path + \".zip\", \"r\") as myzip:\n",
    "    myzip.extractall(\"temp/\")\n",
    "\n",
    "train_metrics = pd.read_csv(\"temp/train_metrics.csv\", index_col = 0)\n",
    "val_metrics = pd.read_csv(\"temp/val_metrics.csv\", index_col = 0)\n",
    "\n",
    "plot_metrics(train_metrics, val_metrics)\n",
    "#inference(transformer, criterion, test_loader, 0.5)"
   ]
  },
  {
   "cell_type": "markdown",
   "metadata": {},
   "source": [
    "## Inference"
   ]
  },
  {
   "cell_type": "code",
   "execution_count": null,
   "metadata": {},
   "outputs": [],
   "source": [
    "model = torch.load(\"temp/model.pth\")\n",
    "\n",
    "data_loader = None #loader for the data\n",
    "inference(model, criterion, test_loader, threshold)"
   ]
  },
  {
   "cell_type": "code",
   "execution_count": null,
   "metadata": {},
   "outputs": [],
   "source": [
    "os.remove(\"temp/train_metrics.csv\")\n",
    "os.remove(\"temp/val_metrics.csv\")\n",
    "if (os.path.exists(\"temp/model.pth\")):\n",
    "    os.remove(\"temp/model.pth\")\n",
    "if (os.path.exists(\"temp/model.pt\")):\n",
    "    os.remove(\"temp/model.pt\")\n",
    "os.rmdir(\"temp\")"
   ]
  }
 ],
 "metadata": {
  "kernelspec": {
   "display_name": "Randomness_Testing",
   "language": "python",
   "name": "python3"
  },
  "language_info": {
   "codemirror_mode": {
    "name": "ipython",
    "version": 3
   },
   "file_extension": ".py",
   "mimetype": "text/x-python",
   "name": "python",
   "nbconvert_exporter": "python",
   "pygments_lexer": "ipython3",
   "version": "3.11.4"
  }
 },
 "nbformat": 4,
 "nbformat_minor": 2
}
