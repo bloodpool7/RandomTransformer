{
 "cells": [
  {
   "cell_type": "markdown",
   "metadata": {},
   "source": [
    "# Loading the Datasets"
   ]
  },
  {
   "cell_type": "code",
   "execution_count": 1,
   "metadata": {},
   "outputs": [],
   "source": [
    "from Model import *\n",
    "import torch.nn as nn\n",
    "from torch.utils.data import DataLoader\n",
    "import pandas as pd\n",
    "\n",
    "#get the data\n",
    "split_ratio = 0.8\n",
    "val_ratio = 0.2\n",
    "data = pd.read_csv(\"Data/dataset_multilabel.csv\", dtype = str)\n",
    "train_df = data.sample(frac = split_ratio)\n",
    "test_df = data.drop(train_df.index)\n",
    "val_df = train_df.sample(frac = val_ratio)\n",
    "train_df = train_df.drop(val_df.index)\n",
    "\n",
    "train_dataset = QueueDataset(train_df)\n",
    "test_dataset = QueueDataset(test_df)\n",
    "val_dataset = QueueDataset(val_df)\n",
    "\n",
    "#initialize the data loader \n",
    "train_loader = DataLoader(train_dataset, batch_size = 128, shuffle = True)\n",
    "test_loader = DataLoader(test_dataset, batch_size = 128, shuffle = True)\n",
    "val_loader = DataLoader(val_dataset, batch_size = 128, shuffle = True)"
   ]
  },
  {
   "cell_type": "markdown",
   "metadata": {},
   "source": [
    "# Defining the Model"
   ]
  },
  {
   "cell_type": "code",
   "execution_count": 14,
   "metadata": {},
   "outputs": [
    {
     "name": "stderr",
     "output_type": "stream",
     "text": [
      "/Users/rishabhgoel/Environments/Randomness_Testing/lib/python3.11/site-packages/torch/nn/modules/transformer.py:286: UserWarning: enable_nested_tensor is True, but self.use_nested_tensor is False because encoder_layer.self_attn.batch_first was not True(use batch_first for better inference performance)\n",
      "  warnings.warn(f\"enable_nested_tensor is True, but self.use_nested_tensor is False because {why_not_sparsity_fast_path}\")\n"
     ]
    }
   ],
   "source": [
    "#model hyperparameters \n",
    "ntokens = 65536  # size of vocabulary\n",
    "emsize = 240  # embedding dimension\n",
    "d_hid = 240  # dimension of the feedforward network model in ``nn.TransformerEncoder``\n",
    "nlayers = 3  # number of ``nn.TransformerEncoderLayer`` in ``nn.TransformerEncoder``\n",
    "nhead = 4  # number of heads in ``nn.MultiheadAttention``\n",
    "dropout = 0.2  # dropout probability\n",
    "threshold = 0.5\n",
    "\n",
    "#define the model \n",
    "device = \"cpu\"\n",
    "transformer = RandomLM(ntokens, emsize, nhead, d_hid, nlayers, dropout).to(device)\n",
    "criterion = nn.BCELoss().to(device)\n",
    "optimizer = torch.optim.Adam(transformer.parameters())"
   ]
  },
  {
   "cell_type": "markdown",
   "metadata": {},
   "source": [
    "# Training Model"
   ]
  },
  {
   "cell_type": "code",
   "execution_count": 15,
   "metadata": {},
   "outputs": [
    {
     "name": "stdout",
     "output_type": "stream",
     "text": [
      "epoch: 1, batch: 100, train loss: 1.097, train macro: 0.711, train micro: 0.787, train sample: 0.713, train weighted 0.747, val loss: 0.401, val macro: 0.923, val micro: 0.926 val sample: 0.782 val weighted: 0.926\n",
      "epoch: 1, batch: 200, train loss: 0.214, train macro: 0.942, train micro: 0.944, train sample: 0.848, train weighted 0.944, val loss: 0.188, val macro: 0.948, val micro: 0.950 val sample: 0.874 val weighted: 0.951\n",
      "epoch: 1, batch: 300, train loss: 0.183, train macro: 0.947, train micro: 0.949, train sample: 0.865, train weighted 0.949, val loss: 0.160, val macro: 0.955, val micro: 0.956 val sample: 0.880 val weighted: 0.957\n",
      "epoch: 1, batch: 400, train loss: 0.163, train macro: 0.953, train micro: 0.955, train sample: 0.874, train weighted 0.955, val loss: 0.155, val macro: 0.958, val micro: 0.960 val sample: 0.887 val weighted: 0.960\n",
      "epoch: 1, batch: 500, train loss: 0.147, train macro: 0.958, train micro: 0.960, train sample: 0.884, train weighted 0.960, val loss: 0.155, val macro: 0.957, val micro: 0.959 val sample: 0.889 val weighted: 0.960\n",
      "epoch: 1, batch: 600, train loss: 0.138, train macro: 0.960, train micro: 0.962, train sample: 0.892, train weighted 0.962, val loss: 0.131, val macro: 0.963, val micro: 0.965 val sample: 0.896 val weighted: 0.965\n",
      "epoch: 2, batch: 100, train loss: 0.101, train macro: 0.971, train micro: 0.972, train sample: 0.903, train weighted 0.972, val loss: 0.133, val macro: 0.963, val micro: 0.965 val sample: 0.897 val weighted: 0.965\n",
      "epoch: 2, batch: 200, train loss: 0.097, train macro: 0.972, train micro: 0.973, train sample: 0.905, train weighted 0.973, val loss: 0.135, val macro: 0.964, val micro: 0.966 val sample: 0.900 val weighted: 0.965\n",
      "epoch: 2, batch: 300, train loss: 0.093, train macro: 0.973, train micro: 0.974, train sample: 0.910, train weighted 0.974, val loss: 0.122, val macro: 0.965, val micro: 0.967 val sample: 0.900 val weighted: 0.967\n",
      "epoch: 2, batch: 400, train loss: 0.098, train macro: 0.971, train micro: 0.972, train sample: 0.907, train weighted 0.972, val loss: 0.124, val macro: 0.965, val micro: 0.967 val sample: 0.900 val weighted: 0.967\n",
      "epoch: 2, batch: 500, train loss: 0.092, train macro: 0.972, train micro: 0.973, train sample: 0.909, train weighted 0.973, val loss: 0.122, val macro: 0.966, val micro: 0.968 val sample: 0.902 val weighted: 0.968\n",
      "epoch: 2, batch: 600, train loss: 0.093, train macro: 0.971, train micro: 0.972, train sample: 0.905, train weighted 0.972, val loss: 0.115, val macro: 0.966, val micro: 0.968 val sample: 0.902 val weighted: 0.968\n",
      "epoch: 3, batch: 100, train loss: 0.073, train macro: 0.976, train micro: 0.977, train sample: 0.912, train weighted 0.977, val loss: 0.122, val macro: 0.967, val micro: 0.969 val sample: 0.903 val weighted: 0.969\n",
      "epoch: 3, batch: 200, train loss: 0.066, train macro: 0.978, train micro: 0.979, train sample: 0.915, train weighted 0.979, val loss: 0.136, val macro: 0.965, val micro: 0.967 val sample: 0.902 val weighted: 0.967\n",
      "epoch: 3, batch: 300, train loss: 0.065, train macro: 0.979, train micro: 0.980, train sample: 0.920, train weighted 0.980, val loss: 0.115, val macro: 0.967, val micro: 0.969 val sample: 0.904 val weighted: 0.969\n",
      "epoch: 3, batch: 400, train loss: 0.066, train macro: 0.979, train micro: 0.980, train sample: 0.918, train weighted 0.980, val loss: 0.133, val macro: 0.967, val micro: 0.968 val sample: 0.904 val weighted: 0.968\n",
      "epoch: 3, batch: 500, train loss: 0.065, train macro: 0.979, train micro: 0.980, train sample: 0.915, train weighted 0.980, val loss: 0.122, val macro: 0.967, val micro: 0.968 val sample: 0.902 val weighted: 0.968\n",
      "epoch: 3, batch: 600, train loss: 0.066, train macro: 0.979, train micro: 0.980, train sample: 0.917, train weighted 0.980, val loss: 0.126, val macro: 0.968, val micro: 0.970 val sample: 0.904 val weighted: 0.970\n"
     ]
    }
   ],
   "source": [
    "train_losses = []\n",
    "train_macro = []\n",
    "train_micro = []\n",
    "train_sample = []\n",
    "train_weighted = []\n",
    "\n",
    "val_losses = []\n",
    "val_macro = []\n",
    "val_micro = []\n",
    "val_sample = []\n",
    "val_weighted = []\n",
    "\n",
    "batch_num = []\n",
    "\n",
    "for epoch in range(3):\n",
    "    transformer.train()\n",
    "\n",
    "    train_losses_per_100 = []\n",
    "    train_macro_per_100 = []\n",
    "    train_micro_per_100 = []\n",
    "    train_sample_per_100 = []\n",
    "    train_weighted_per_100 = []\n",
    "\n",
    "    val_losses_per_100 = []\n",
    "    val_macro_per_100 = []\n",
    "    val_micro_per_100 = []\n",
    "    val_sample_per_100 = []\n",
    "    val_weighted_per_100 = []\n",
    "\n",
    "    for i, data in enumerate(train_loader):\n",
    "        #get the data\n",
    "        queues, labels = data\n",
    "        queues = queues.to(device)\n",
    "        labels = labels.to(device)\n",
    "\n",
    "        #forward pass\n",
    "        optimizer.zero_grad()\n",
    "        output = transformer(queues)\n",
    "        loss = criterion(output, labels)\n",
    "\n",
    "        #backward pass\n",
    "        loss.backward()\n",
    "        optimizer.step()\n",
    "\n",
    "        #metrics\n",
    "        macro, micro, sample, weighted = F_score(output, labels, threshold)\n",
    "\n",
    "        train_losses_per_100.append(loss.item())\n",
    "        train_macro_per_100.append(macro)\n",
    "        train_micro_per_100.append(micro)\n",
    "        train_sample_per_100.append(sample)\n",
    "        train_weighted_per_100.append(weighted)\n",
    "\n",
    "        #every 100 batches, log metrics and run validation\n",
    "        if (i+1) % 100 == 0:\n",
    "            train_losses.append(np.array(train_losses_per_100).mean())\n",
    "            train_macro.append(np.array(train_macro_per_100).mean())\n",
    "            train_micro.append(np.array(train_micro_per_100).mean())\n",
    "            train_sample.append(np.array(train_sample_per_100).mean())\n",
    "            train_weighted.append(np.array(train_weighted_per_100).mean())\n",
    "\n",
    "            train_losses_per_100 = []\n",
    "            train_macro_per_100 = []\n",
    "            train_micro_per_100 = []\n",
    "            train_sample_per_100 = []\n",
    "            train_weighted_per_100 = []\n",
    "\n",
    "            batch_num.append((i + 1) + (epoch) * (600))\n",
    "\n",
    "            #validate the model\n",
    "            transformer.eval()\n",
    "            for j, data in enumerate(val_loader):\n",
    "                queues, labels = data\n",
    "                queues = queues.to(device)\n",
    "                labels = labels.to(device)\n",
    "\n",
    "                #forward pass\n",
    "                output = transformer(queues)\n",
    "                loss = criterion(output, labels)\n",
    "\n",
    "                #metrics\n",
    "                macro, micro, sample, weighted = F_score(output, labels, threshold)\n",
    "\n",
    "                val_losses_per_100.append(loss.item())\n",
    "                val_macro_per_100.append(macro)\n",
    "                val_micro_per_100.append(micro)\n",
    "                val_sample_per_100.append(sample)\n",
    "                val_weighted_per_100.append(weighted)\n",
    "\n",
    "            val_losses.append(np.array(val_losses_per_100).mean())\n",
    "            val_macro.append(np.array(val_macro_per_100).mean())\n",
    "            val_micro.append(np.array(val_micro_per_100).mean())\n",
    "            val_sample.append(np.array(val_sample_per_100).mean())\n",
    "            val_weighted.append(np.array(val_weighted_per_100).mean())\n",
    "            \n",
    "            val_losses_per_100 = []\n",
    "            val_macro_per_100 = []\n",
    "            val_micro_per_100 = []\n",
    "            val_sample_per_100 = []\n",
    "            val_weighted_per_100 = []\n",
    "            \n",
    "            print(\"epoch: {}, batch: {}, train loss: {:.3f}, train macro: {:.3f}, train micro: {:.3f}, train sample: {:.3f}, train weighted {:.3f}, val loss: {:.3f}, val macro: {:.3f}, val micro: {:.3f} val sample: {:.3f} val weighted: {:.3f}\".format(\n",
    "                epoch + 1, i + 1, train_losses[-1], train_macro[-1], train_micro[-1], train_sample[-1], train_weighted[-1], val_losses[-1], val_macro[-1], val_micro[-1], val_sample[-1], val_weighted[-1])\n",
    "            )\n",
    "            transformer.train()"
   ]
  },
  {
   "cell_type": "markdown",
   "metadata": {},
   "source": [
    "# Plotting Results"
   ]
  },
  {
   "cell_type": "code",
   "execution_count": 55,
   "metadata": {},
   "outputs": [
    {
     "data": {
      "image/png": "[encoded data removed]",
      "text/plain": [
       "<Figure size 640x480 with 1 Axes>"
      ]
     },
     "metadata": {},
     "output_type": "display_data"
    },
    {
     "data": {
      "image/png": "[encoded data removed]",
      "text/plain": [
       "<Figure size 640x480 with 1 Axes>"
      ]
     },
     "metadata": {},
     "output_type": "display_data"
    }
   ],
   "source": [
    "#plot the validation and training loss as well as f1 score\n",
    "import matplotlib.pyplot as plt\n",
    "\n",
    "f = plt.figure(1)\n",
    "plt.plot(batch_num, train_losses, label = \"Train Loss\")\n",
    "plt.plot(batch_num, val_losses, label = \"Validation Loss\")\n",
    "plt.xlabel(\"Batch Number\")\n",
    "plt.ylabel(\"Loss\")\n",
    "plt.legend()\n",
    "plt.show()\n",
    "\n",
    "g = plt.figure(2)\n",
    "plt.plot(batch_num, train_sample, label = \"Train F1 Score\")\n",
    "plt.plot(batch_num, val_sample, label = \"Validation F1 Score\")\n",
    "plt.xlabel(\"Batch Number\")\n",
    "plt.ylabel(\"F1 Score\")\n",
    "plt.legend()\n",
    "plt.show()"
   ]
  },
  {
   "cell_type": "markdown",
   "metadata": {},
   "source": [
    "# Running Tests"
   ]
  },
  {
   "cell_type": "code",
   "execution_count": 54,
   "metadata": {},
   "outputs": [
    {
     "name": "stdout",
     "output_type": "stream",
     "text": [
      "Loss:  0.13084597863368133\n",
      "Micro F1 Score:  0.9663924036346795\n",
      "Macro F1 Score:  0.9679929876266397\n",
      "Sample F1 Score:  0.9011689512125489\n",
      "Weighted F1 Score:  0.967926847517408\n"
     ]
    }
   ],
   "source": [
    "#run inferences on the test set\n",
    "transformer.eval()\n",
    "test_losses = []\n",
    "micro_f1s = []\n",
    "macro_f1s = []\n",
    "sample_f1s = []\n",
    "weighted_f1s = []\n",
    "\n",
    "for i, data in enumerate(test_loader):\n",
    "    queues, labels = data\n",
    "    queues = queues.to(device)\n",
    "    labels = labels.to(device)\n",
    "\n",
    "    #forward pass\n",
    "    output = transformer(queues)\n",
    "    loss = criterion(output, labels)\n",
    "\n",
    "    #metrics\n",
    "    test_losses.append(loss.item())\n",
    "    micro, macro, sample, weighted = F_score(output, labels, threshold)\n",
    "    micro_f1s.append(micro)\n",
    "    macro_f1s.append(macro)\n",
    "    sample_f1s.append(sample)\n",
    "    weighted_f1s.append(weighted)\n",
    "\n",
    "print(\"Loss: \", np.array(test_losses).mean())\n",
    "print(\"Micro F1 Score: \", np.array(micro_f1s).mean())\n",
    "print(\"Macro F1 Score: \", np.array(macro_f1s).mean())\n",
    "print(\"Sample F1 Score: \", np.array(sample_f1s).mean())\n",
    "print(\"Weighted F1 Score: \", np.array(weighted_f1s).mean())"
   ]
  },
  {
   "cell_type": "markdown",
   "metadata": {},
   "source": [
    "# Saving Results"
   ]
  },
  {
   "cell_type": "code",
   "execution_count": 53,
   "metadata": {},
   "outputs": [],
   "source": [
    "from zipfile import ZipFile \n",
    "import os \n",
    "\n",
    "torch.save(transformer.state_dict(), \"model.pth\")\n",
    "\n",
    "dir_name = \"TrainedModels/240embeddings-3encoder-4heads-64tokensize\"\n",
    "\n",
    "#save the losses, an all the f1 metrics\n",
    "train_dict = {}\n",
    "val_dict = {}\n",
    "\n",
    "train_dict[\"losses\"] = train_losses\n",
    "train_dict[\"macro\"] = train_macro\n",
    "train_dict[\"micro\"] = train_micro\n",
    "train_dict[\"sample\"] = train_sample\n",
    "train_dict[\"weighted\"] = train_weighted\n",
    "\n",
    "val_dict[\"losses\"] = val_losses\n",
    "val_dict[\"macro\"] = val_macro\n",
    "val_dict[\"micro\"] = val_micro\n",
    "val_dict[\"sample\"] = val_sample\n",
    "val_dict[\"weighted\"] = val_weighted\n",
    "\n",
    "train_df = pd.DataFrame(train_dict, index = batch_num)\n",
    "val_df = pd.DataFrame(val_dict, index = batch_num)\n",
    "\n",
    "train_df.to_csv(\"train_metrics.csv\")\n",
    "val_df.to_csv(\"val_metrics.csv\")\n",
    "\n",
    "with ZipFile(dir_name + \".zip\", \"w\") as myzip:\n",
    "    myzip.write(\"train_metrics.csv\")\n",
    "    myzip.write(\"val_metrics.csv\")\n",
    "    myzip.write(\"model.pth\")\n",
    "    myzip.close()\n",
    "\n",
    "os.remove(\"train_metrics.csv\")\n",
    "os.remove(\"val_metrics.csv\")\n",
    "os.remove(\"model.pth\")"
   ]
  }
 ],
 "metadata": {
  "kernelspec": {
   "display_name": "Randomness_Testing",
   "language": "python",
   "name": "python3"
  },
  "language_info": {
   "codemirror_mode": {
    "name": "ipython",
    "version": 3
   },
   "file_extension": ".py",
   "mimetype": "text/x-python",
   "name": "python",
   "nbconvert_exporter": "python",
   "pygments_lexer": "ipython3",
   "version": "3.11.4"
  }
 },
 "nbformat": 4,
 "nbformat_minor": 2
}
